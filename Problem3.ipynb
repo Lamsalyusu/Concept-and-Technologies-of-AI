{
 "cells": [
  {
   "cell_type": "code",
   "execution_count": 1,
   "metadata": {},
   "outputs": [
    {
     "name": "stdout",
     "output_type": "stream",
     "text": [
      "[[ 6  8]\n",
      " [10 13]]\n",
      "[[ 6  8]\n",
      " [10 13]]\n",
      "[20 22]\n"
     ]
    }
   ],
   "source": [
    "# Ques 1\n",
    "import numpy as np\n",
    "x = np.array([[1,2],\n",
    "              [3,5]]) \n",
    "y = np.array([[5,6]\n",
    "            , [7,8]])\n",
    "result1 = x+y\n",
    "result2 = np.add(x,y)\n",
    "print(result1)\n",
    "print(result2)\n",
    "\n",
    "v = np.array([9,10]) \n",
    "w = np.array([11,12])\n",
    "result1 = np.add(v,w)\n",
    "print(result1)"
   ]
  },
  {
   "cell_type": "code",
   "execution_count": 1,
   "metadata": {},
   "outputs": [
    {
     "name": "stdout",
     "output_type": "stream",
     "text": [
      "[[-4 -4]\n",
      " [-4 -3]]\n",
      "[-2 -2]\n"
     ]
    }
   ],
   "source": [
    "# Ques 2\n",
    "import numpy as np\n",
    "x = np.array([[1,2],\n",
    "              [3,5]]) \n",
    "y = np.array([[5,6]\n",
    "            , [7,8]])\n",
    "result = np.subtract(x,y)\n",
    "print(result)\n",
    "\n",
    "v = np.array([9,10]) \n",
    "w = np.array([11,12])\n",
    "result = np.subtract(v,w)\n",
    "print(result)"
   ]
  },
  {
   "cell_type": "code",
   "execution_count": 3,
   "metadata": {},
   "outputs": [
    {
     "name": "stdout",
     "output_type": "stream",
     "text": [
      "[18 20]\n",
      "[33 36]\n",
      "[[ 4  8]\n",
      " [12 20]]\n",
      "[[25 30]\n",
      " [35 40]]\n"
     ]
    }
   ],
   "source": [
    "# Ques 3\n",
    "import numpy as np\n",
    "v = np.array([9,10]) \n",
    "w = np.array([11,12])\n",
    "x = np.array([[1,2],\n",
    "              [3,5]]) \n",
    "y = np.array([[5,6]\n",
    "            , [7,8]])\n",
    "\n",
    "res1 = v*2\n",
    "res2= w*3\n",
    "res3 = x*4\n",
    "res4=y*5\n",
    "\n",
    "print(res1)\n",
    "print(res2)\n",
    "print(res3)\n",
    "print(res4)"
   ]
  },
  {
   "cell_type": "code",
   "execution_count": 2,
   "metadata": {},
   "outputs": [
    {
     "name": "stdout",
     "output_type": "stream",
     "text": [
      "[ 81 100] \n",
      " [121 144] \n",
      " [[ 1  4]\n",
      " [ 9 25]] \n",
      " [[25 36]\n",
      " [49 64]]\n"
     ]
    }
   ],
   "source": [
    "# Ques 4\n",
    "import numpy as np\n",
    "v = np.array([9,10]) \n",
    "w = np.array([11,12])\n",
    "x = np.array([[1,2],\n",
    "              [3,5]]) \n",
    "y = np.array([[5,6]\n",
    "            , [7,8]])\n",
    "\n",
    "square1 = np.square(v)\n",
    "square2 = np.square(w)\n",
    "square3 = np.square(x)\n",
    "square4 = np.square(y)\n",
    "print(square1,\"\\n\", square2,\"\\n\", square3,\"\\n\", square4)"
   ]
  },
  {
   "cell_type": "code",
   "execution_count": 5,
   "metadata": {},
   "outputs": [
    {
     "name": "stdout",
     "output_type": "stream",
     "text": [
      "219\n",
      "[29 77]\n",
      "[[19 22]\n",
      " [50 58]]\n"
     ]
    }
   ],
   "source": [
    "# Ques 5\n",
    "import numpy as np\n",
    "v = np.array([9,10]) \n",
    "w = np.array([11,12])\n",
    "x = np.array([[1,2],\n",
    "              [3,5]]) \n",
    "y = np.array([[5,6]\n",
    "            , [7,8]])\n",
    "\n",
    "result1 = np.dot(v,w)\n",
    "result2 = np.dot(x,v)\n",
    "result3 =np.dot(x,y)\n",
    "\n",
    "print(result1)\n",
    "print(result2)\n",
    "print(result3)"
   ]
  },
  {
   "cell_type": "code",
   "execution_count": 6,
   "metadata": {},
   "outputs": [
    {
     "name": "stdout",
     "output_type": "stream",
     "text": [
      "[ 9 10 11 12]\n",
      "[[1 2 5 6]\n",
      " [3 5 7 8]]\n"
     ]
    },
    {
     "ename": "ValueError",
     "evalue": "all the input arrays must have same number of dimensions, but the array at index 0 has 2 dimension(s) and the array at index 1 has 1 dimension(s)",
     "output_type": "error",
     "traceback": [
      "\u001b[1;31m---------------------------------------------------------------------------\u001b[0m",
      "\u001b[1;31mValueError\u001b[0m                                Traceback (most recent call last)",
      "Cell \u001b[1;32mIn[6], line 13\u001b[0m\n\u001b[0;32m     11\u001b[0m \u001b[38;5;28mprint\u001b[39m(result1)\n\u001b[0;32m     12\u001b[0m \u001b[38;5;28mprint\u001b[39m(result2)\n\u001b[1;32m---> 13\u001b[0m result3 \u001b[38;5;241m=\u001b[39m \u001b[43mnp\u001b[49m\u001b[38;5;241;43m.\u001b[39;49m\u001b[43mconcatenate\u001b[49m\u001b[43m(\u001b[49m\u001b[43m(\u001b[49m\u001b[43mx\u001b[49m\u001b[43m,\u001b[49m\u001b[43mv\u001b[49m\u001b[43m)\u001b[49m\u001b[43m)\u001b[49m\n\u001b[0;32m     14\u001b[0m \u001b[38;5;28mprint\u001b[39m(result3)\n\u001b[0;32m     15\u001b[0m \u001b[38;5;66;03m# dimensional error\u001b[39;00m\n",
      "\u001b[1;31mValueError\u001b[0m: all the input arrays must have same number of dimensions, but the array at index 0 has 2 dimension(s) and the array at index 1 has 1 dimension(s)"
     ]
    }
   ],
   "source": [
    "# Ques 6\n",
    "import numpy as np\n",
    "v = np.array([9,10]) \n",
    "w = np.array([11,12])\n",
    "x = np.array([[1,2],\n",
    "              [3,5]]) \n",
    "y = np.array([[5,6]\n",
    "            , [7,8]])\n",
    "result1 = np.concatenate((v,w))\n",
    "result2 = np.concatenate((x,y),axis = 1)\n",
    "print(result1)\n",
    "print(result2)\n",
    "result3 = np.concatenate((x,v))\n",
    "print(result3)\n",
    "# dimensional error"
   ]
  },
  {
   "cell_type": "code",
   "execution_count": null,
   "metadata": {},
   "outputs": [],
   "source": [
    "# Ques 7\n",
    "import numpy as np\n",
    "v = np.array([9,10]) \n",
    "w = np.array([11,12])\n",
    "x = np.array([[1,2],\n",
    "              [3,5]]) \n",
    "y = np.array([[5,6]\n",
    "            , [7,8]])\n",
    "result3 = np.concatenate((x,v))\n",
    "print(result3)\n",
    "# dimensional error"
   ]
  }
 ],
 "metadata": {
  "kernelspec": {
   "display_name": "Python 3",
   "language": "python",
   "name": "python3"
  },
  "language_info": {
   "codemirror_mode": {
    "name": "ipython",
    "version": 3
   },
   "file_extension": ".py",
   "mimetype": "text/x-python",
   "name": "python",
   "nbconvert_exporter": "python",
   "pygments_lexer": "ipython3",
   "version": "3.12.4"
  }
 },
 "nbformat": 4,
 "nbformat_minor": 2
}
