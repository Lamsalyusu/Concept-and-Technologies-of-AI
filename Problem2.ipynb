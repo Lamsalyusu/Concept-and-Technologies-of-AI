{
 "cells": [
  {
   "cell_type": "code",
   "execution_count": 1,
   "metadata": {},
   "outputs": [
    {
     "name": "stdout",
     "output_type": "stream",
     "text": [
      "[10 11 12 13 14 15 16 17 18 19 20 21 22 23 24 25 26 27 28 29 30 31 32 33\n",
      " 34 35 36 37 38 39 40 41 42 43 44 45 46 47 48 49]\n"
     ]
    }
   ],
   "source": [
    "# Ques 1\n",
    "import numpy as np\n",
    "array_10_to_49 = np.arange(10, 50)\n",
    "print(array_10_to_49)"
   ]
  },
  {
   "cell_type": "code",
   "execution_count": 2,
   "metadata": {},
   "outputs": [
    {
     "name": "stdout",
     "output_type": "stream",
     "text": [
      "[[0 1 2]\n",
      " [3 4 5]\n",
      " [6 7 8]]\n"
     ]
    }
   ],
   "source": [
    "# Ques 2\n",
    "import numpy as np\n",
    "array_0_8= np.reshape((np.arange(0,9)),(3,3))\n",
    "print(array_0_8)"
   ]
  },
  {
   "cell_type": "code",
   "execution_count": 3,
   "metadata": {},
   "outputs": [
    {
     "name": "stdout",
     "output_type": "stream",
     "text": [
      "[[1. 0. 0.]\n",
      " [0. 1. 0.]\n",
      " [0. 0. 1.]]\n"
     ]
    }
   ],
   "source": [
    "# Ques 3\n",
    "import numpy as np\n",
    "id_matrix = np.eye(3)\n",
    "print(id_matrix)"
   ]
  },
  {
   "cell_type": "code",
   "execution_count": 4,
   "metadata": {},
   "outputs": [
    {
     "name": "stdout",
     "output_type": "stream",
     "text": [
      "0.4026398732370809\n"
     ]
    }
   ],
   "source": [
    "# Ques 4\n",
    "import numpy as np\n",
    "random_array = np.random.rand(30)\n",
    "mean_arr = random_array.mean()\n",
    "print(mean_arr)"
   ]
  },
  {
   "cell_type": "code",
   "execution_count": 5,
   "metadata": {},
   "outputs": [
    {
     "name": "stdout",
     "output_type": "stream",
     "text": [
      "The random elements array is:  [[87 12 70 82 34 39 65 87 93 10]\n",
      " [11 36 28 94 44 60 51  1 66  6]\n",
      " [91 78 99 54 50 29 79 29 62 34]\n",
      " [15 68 29 70 94 66 30 83 22 59]\n",
      " [76  2  1 79 48 53 31 88 68 38]\n",
      " [75 82 66 28 38 89 81 31  8 42]\n",
      " [45 52 44 96 80 71  3 90 34  3]\n",
      " [19 55 76 13 40 22 50 20 89 39]\n",
      " [ 3 98 21 39  5 40 73 29 79 50]\n",
      " [92 87 97 14 74 62 36 89 55 83]]\n",
      "The min value of the matrix is: 1\n",
      "The max value of the matrix is: 99\n"
     ]
    }
   ],
   "source": [
    "# Ques 5 \n",
    "import numpy as np \n",
    "array = np.random.randint(1,100,size=(10,10))\n",
    "min_val = array.min()\n",
    "max_val = array.max()\n",
    "print(\"The random elements array is: \",array)\n",
    "print(\"The min value of the matrix is:\",min_val)\n",
    "print(\"The max value of the matrix is:\",max_val)"
   ]
  },
  {
   "cell_type": "code",
   "execution_count": 6,
   "metadata": {},
   "outputs": [
    {
     "name": "stdout",
     "output_type": "stream",
     "text": [
      "[[0. 0. 0. 0. 0. 0. 0. 0. 0. 0.]\n",
      " [0. 0. 0. 0. 0. 0. 0. 0. 0. 0.]\n",
      " [0. 0. 0. 0. 0. 0. 0. 0. 0. 0.]\n",
      " [0. 0. 0. 0. 0. 0. 0. 0. 0. 0.]\n",
      " [0. 0. 0. 0. 0. 0. 0. 0. 0. 0.]\n",
      " [0. 0. 0. 0. 0. 0. 0. 0. 0. 0.]\n",
      " [0. 0. 0. 0. 0. 0. 0. 0. 0. 0.]\n",
      " [0. 0. 0. 0. 0. 0. 0. 0. 0. 0.]\n",
      " [0. 0. 0. 0. 0. 0. 0. 0. 0. 0.]\n",
      " [0. 0. 0. 0. 0. 0. 0. 0. 0. 0.]]\n",
      "[[0. 0. 0. 0. 1. 0. 0. 0. 0. 0.]\n",
      " [0. 0. 0. 0. 0. 0. 0. 0. 0. 0.]\n",
      " [0. 0. 0. 0. 0. 0. 0. 0. 0. 0.]\n",
      " [0. 0. 0. 0. 0. 0. 0. 0. 0. 0.]\n",
      " [0. 0. 0. 0. 0. 0. 0. 0. 0. 0.]\n",
      " [0. 0. 0. 0. 0. 0. 0. 0. 0. 0.]\n",
      " [0. 0. 0. 0. 0. 0. 0. 0. 0. 0.]\n",
      " [0. 0. 0. 0. 0. 0. 0. 0. 0. 0.]\n",
      " [0. 0. 0. 0. 0. 0. 0. 0. 0. 0.]\n",
      " [0. 0. 0. 0. 0. 0. 0. 0. 0. 0.]]\n"
     ]
    }
   ],
   "source": [
    "# Ques 6\n",
    "import numpy as np\n",
    "array = np.zeros((10,10))\n",
    "print(array)\n",
    "array[0][4]= 1\n",
    "print(array)"
   ]
  },
  {
   "cell_type": "code",
   "execution_count": 7,
   "metadata": {},
   "outputs": [
    {
     "name": "stdout",
     "output_type": "stream",
     "text": [
      "[0, 4, 0, 0, 2, 1]\n"
     ]
    }
   ],
   "source": [
    "\n",
    "# Ques 7\n",
    "import numpy as np\n",
    "array = [1,2,0,0,4,0]\n",
    "array.reverse()\n",
    "# array.sort()\n",
    "print(array)\n"
   ]
  },
  {
   "cell_type": "code",
   "execution_count": 8,
   "metadata": {},
   "outputs": [
    {
     "name": "stdout",
     "output_type": "stream",
     "text": [
      "[[1 1 1]\n",
      " [1 5 1]\n",
      " [1 1 1]]\n"
     ]
    }
   ],
   "source": [
    "# Ques 8\n",
    "import numpy as np\n",
    "array = np.array([[1,2,3],[4,5,6],[7,8,9]])\n",
    "array[0,:]=1\n",
    "array[-1,:] =1\n",
    "array[:,0]=1\n",
    "array[:,-1]=1\n",
    "print(array)\n"
   ]
  },
  {
   "cell_type": "code",
   "execution_count": 9,
   "metadata": {},
   "outputs": [
    {
     "name": "stdout",
     "output_type": "stream",
     "text": [
      "[[0 1 0 1 0 1 0 1]\n",
      " [1 0 1 0 1 0 1 0]\n",
      " [0 1 0 1 0 1 0 1]\n",
      " [1 0 1 0 1 0 1 0]\n",
      " [0 1 0 1 0 1 0 1]\n",
      " [1 0 1 0 1 0 1 0]\n",
      " [0 1 0 1 0 1 0 1]\n",
      " [1 0 1 0 1 0 1 0]]\n"
     ]
    }
   ],
   "source": [
    "# Ques 9 \n",
    "import numpy as np\n",
    "check = np.random.randint(0,1,(8,8))\n",
    "check[1::2, ::2] = 1 \n",
    "check[::2, 1::2] = 1 \n",
    "print(check)"
   ]
  },
  {
   "cell_type": "code",
   "execution_count": null,
   "metadata": {},
   "outputs": [],
   "source": []
  }
 ],
 "metadata": {
  "kernelspec": {
   "display_name": "Python 3",
   "language": "python",
   "name": "python3"
  },
  "language_info": {
   "codemirror_mode": {
    "name": "ipython",
    "version": 3
   },
   "file_extension": ".py",
   "mimetype": "text/x-python",
   "name": "python",
   "nbconvert_exporter": "python",
   "pygments_lexer": "ipython3",
   "version": "3.12.4"
  }
 },
 "nbformat": 4,
 "nbformat_minor": 2
}
