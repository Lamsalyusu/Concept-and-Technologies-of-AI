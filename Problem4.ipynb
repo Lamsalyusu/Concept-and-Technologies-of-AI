{
 "cells": [
  {
   "cell_type": "code",
   "execution_count": 1,
   "metadata": {},
   "outputs": [
    {
     "name": "stdout",
     "output_type": "stream",
     "text": [
      "Equal\n"
     ]
    }
   ],
   "source": [
    "# QUes 1\n",
    "    #  part 1\n",
    "import numpy as np\n",
    "A = np.array([[3,4],[7,8]]) \n",
    "B = np.array([[5,3],[2,1]])\n",
    "A_inv=np.linalg.inv(A)\n",
    "result = np.dot(A_inv,A)\n",
    "result = np.round(result, decimals=10)\n",
    "I = np.eye(2,2)\n",
    "# print(I)\n",
    "if np.allclose(result,I) :\n",
    "    print(\"Equal\")\n",
    "else:\n",
    "    print(\"Not equal\")"
   ]
  },
  {
   "cell_type": "code",
   "execution_count": 2,
   "metadata": {},
   "outputs": [
    {
     "name": "stdout",
     "output_type": "stream",
     "text": [
      "Not equal\n"
     ]
    }
   ],
   "source": [
    "#    part  2 \n",
    "import numpy as np\n",
    "A = np.array([[3,4],[7,8]]) \n",
    "B = np.array([[5,3],[2,1]])\n",
    "res1 = np.matmul(A,B)\n",
    "res2 = np.matmul(B,A)\n",
    "if np.allclose(res1,res2):\n",
    "    print(\"Equal\")\n",
    "else:\n",
    "    print(\"Not equal\")"
   ]
  },
  {
   "cell_type": "code",
   "execution_count": 12,
   "metadata": {},
   "outputs": [
    {
     "name": "stdout",
     "output_type": "stream",
     "text": [
      "Equal\n"
     ]
    }
   ],
   "source": [
    "    # Part 3\n",
    "import numpy as np\n",
    "A = np.array([[3,4],[7,8]]) \n",
    "B = np.array([[5,3],[2,1]])\n",
    "res1 = np.matmul(A,B)\n",
    "transpAB = np.transpose(res1)\n",
    "transpA = np.transpose(A)\n",
    "transpB = np.transpose(B)\n",
    "res2 = np.matmul(transpB,transpA)\n",
    "if np.allclose(transpAB,res2):\n",
    "        print(\"Equal\")\n",
    "else:\n",
    "        print(\"Not equal\")"
   ]
  },
  {
   "cell_type": "code",
   "execution_count": null,
   "metadata": {},
   "outputs": [],
   "source": [
    "# Ques 2 and 3\n",
    "import numpy as np\n",
    "A= ([[2,-3,1],\n",
    "    [1,-1,2],\n",
    "    [3,1,-1]])\n",
    "\n",
    "B= ([-1],\n",
    "    [-3],\n",
    "    [9])\n",
    "\n",
    "A_inv = np.linalg.inv(A)\n",
    "res = np.dot(A_inv,B)\n",
    "print(\"The solution is: \")\n",
    "print(res)"
   ]
  }
 ],
 "metadata": {
  "kernelspec": {
   "display_name": "Python 3",
   "language": "python",
   "name": "python3"
  },
  "language_info": {
   "codemirror_mode": {
    "name": "ipython",
    "version": 3
   },
   "file_extension": ".py",
   "mimetype": "text/x-python",
   "name": "python",
   "nbconvert_exporter": "python",
   "pygments_lexer": "ipython3",
   "version": "3.12.4"
  }
 },
 "nbformat": 4,
 "nbformat_minor": 2
}
