{
 "cells": [
  {
   "cell_type": "code",
   "execution_count": null,
   "metadata": {},
   "outputs": [],
   "source": [
    "def calculate_directory_size(directory):\n",
    "    size=0\n",
    "    for key , value in directory.items():\n",
    "        if isinstance(value, dict):\n",
    "            size += calculate_directory_size(value)\n",
    "        else:\n",
    "            size += value\n",
    "    return size  \n",
    "\n",
    "directory_structure = {\n",
    "\"file1.txt\": 200,\n",
    "\"file2.txt\": 300,\n",
    "\"subdir1\": {\n",
    "\"file3.txt\": 400,\n",
    "\"file4.txt\": 100\n",
    "},\n",
    "\"subdir2\": {\n",
    "\"subsubdir1\": {\n",
    "\"file5.txt\": 250\n",
    "},\n",
    "\"file6.txt\": 150\n",
    "}\n",
    "} \n",
    "\n",
    "size = calculate_directory_size(directory_structure)\n",
    "print(f\"Total size of the directory is {size} KB.\")"
   ]
  }
 ],
 "metadata": {
  "language_info": {
   "name": "python"
  }
 },
 "nbformat": 4,
 "nbformat_minor": 2
}
