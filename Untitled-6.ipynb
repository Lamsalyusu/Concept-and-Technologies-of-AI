{
 "cells": [
  {
   "cell_type": "code",
   "execution_count": null,
   "metadata": {},
   "outputs": [],
   "source": [
    "a = \"abcde\"\n",
    "b = \"ace\"\n",
    "lcs = []\n",
    "\n",
    "j = 0\n",
    "for char in a:\n",
    "    if char == b[j]:\n",
    "        lcs.append(char)\n",
    "        j += 1\n",
    "\n",
    "print(\"lcs of\",a,\"and\",b,\"is\",''.join(lcs))"
   ]
  }
 ],
 "metadata": {
  "language_info": {
   "name": "python"
  }
 },
 "nbformat": 4,
 "nbformat_minor": 2
}
