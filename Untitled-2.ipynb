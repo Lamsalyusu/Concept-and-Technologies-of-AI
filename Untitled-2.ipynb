{
 "cells": [
  {
   "cell_type": "code",
   "execution_count": null,
   "metadata": {},
   "outputs": [],
   "source": [
    "def sum_nested_list(nested_list):\n",
    "\n",
    "    total = 0\n",
    "    for element in nested_list:\n",
    "        if isinstance(element, list):\n",
    "            total += sum_nested_list(element)\n",
    "        else:\n",
    "            total += element\n",
    "    return total \n",
    "print(sum_nested_list([1, [2, [3, 4], 5], 6, [7,8]]))"
   ]
  }
 ],
 "metadata": {
  "kernelspec": {
   "display_name": "Python 3",
   "language": "python",
   "name": "python3"
  },
  "language_info": {
   "name": "python",
   "version": "3.12.4"
  }
 },
 "nbformat": 4,
 "nbformat_minor": 2
}
