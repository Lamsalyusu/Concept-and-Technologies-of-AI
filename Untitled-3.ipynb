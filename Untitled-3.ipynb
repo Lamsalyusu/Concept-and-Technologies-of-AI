{
 "cells": [
  {
   "cell_type": "code",
   "execution_count": null,
   "metadata": {},
   "outputs": [],
   "source": [
    "def generate_permutations(s):\n",
    "    if len(s) <= 1:\n",
    "        return [s]\n",
    "    permutations = []\n",
    "    for i, char in enumerate(s):\n",
    "        remaining = s[:i] + s[i+1:]\n",
    "        for perm in generate_permutations(remaining):\n",
    "            new_permutation = char + perm\n",
    "            if new_permutation not in permutations: \n",
    "                permutations.append(new_permutation)\n",
    "    return permutations\n",
    "print(\"Permutations of 'abc':\", generate_permutations(\"abc\"))"
   ]
  }
 ],
 "metadata": {
  "kernelspec": {
   "display_name": "Python 3",
   "language": "python",
   "name": "python3"
  },
  "language_info": {
   "name": "python",
   "version": "3.12.4"
  }
 },
 "nbformat": 4,
 "nbformat_minor": 2
}
